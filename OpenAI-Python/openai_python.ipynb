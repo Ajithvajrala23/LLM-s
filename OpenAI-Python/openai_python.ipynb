{
  "nbformat": 4,
  "nbformat_minor": 0,
  "metadata": {
    "colab": {
      "provenance": [],
      "toc_visible": true,
      "authorship_tag": "ABX9TyNy5HOgehpibKt3QzHjbnvh",
      "include_colab_link": true
    },
    "kernelspec": {
      "name": "python3",
      "display_name": "Python 3"
    },
    "language_info": {
      "name": "python"
    }
  },
  "cells": [
    {
      "cell_type": "markdown",
      "metadata": {
        "id": "view-in-github",
        "colab_type": "text"
      },
      "source": [
        "<a href=\"https://colab.research.google.com/github/Ajithvajrala23/LLM-s/blob/main/OpenAI-Python/openai_python.ipynb\" target=\"_parent\"><img src=\"https://colab.research.google.com/assets/colab-badge.svg\" alt=\"Open In Colab\"/></a>"
      ]
    },
    {
      "cell_type": "code",
      "execution_count": 37,
      "metadata": {
        "id": "sGLZWXG8z8a9"
      },
      "outputs": [],
      "source": [
        "import pandas as pd\n",
        "import openai\n",
        "import time\n",
        "from google.colab import userdata\n",
        "secret_key = userdata.get('OPENAI')"
      ]
    },
    {
      "cell_type": "code",
      "source": [
        "from openai import OpenAI\n",
        "client = OpenAI(api_key=secret_key)\n",
        "\n",
        "completion = client.chat.completions.create(\n",
        "\n",
        "    model=\"gpt-4o\",\n",
        "    messages=[\n",
        "        {\"role\": \"system\", \"content\": \"You are a helpful assistant.\"},\n",
        "        {\n",
        "            \"role\": \"user\",\n",
        "            \"content\": \"what comes after alphabet A\"\n",
        "        }\n",
        "    ]\n",
        ")\n",
        "\n",
        "print(completion.choices[0].message)"
      ],
      "metadata": {
        "colab": {
          "base_uri": "https://localhost:8080/"
        },
        "id": "NmizggXN0EiN",
        "outputId": "4ed9b48b-92a3-4a30-aa32-1715908ff29c"
      },
      "execution_count": 9,
      "outputs": [
        {
          "output_type": "stream",
          "name": "stdout",
          "text": [
            "ChatCompletionMessage(content='The letter that comes after \"A\" in the English alphabet is \"B\".', refusal=None, role='assistant', audio=None, function_call=None, tool_calls=None)\n"
          ]
        }
      ]
    },
    {
      "cell_type": "code",
      "source": [],
      "metadata": {
        "id": "6J7Y9mTk1ox1"
      },
      "execution_count": 18,
      "outputs": []
    },
    {
      "cell_type": "code",
      "source": [
        "from openai import OpenAI\n",
        "client = OpenAI(api_key=secret_key)\n",
        "\n",
        "completion = client.chat.completions.create(\n",
        "\n",
        "    model=\"gpt-4o\",\n",
        "    messages=[\n",
        "        {\"role\": \"system\", \"content\": \"Complete the sentence\"},\n",
        "        {\n",
        "            \"role\": \"user\",\n",
        "            \"content\": \"Listen to your \"\n",
        "        }\n",
        "    ]\n",
        ")\n",
        "\n",
        "print(completion.choices[0].message)"
      ],
      "metadata": {
        "colab": {
          "base_uri": "https://localhost:8080/"
        },
        "id": "OxFFv1LO2rcu",
        "outputId": "ccba8b11-344d-4cc9-a457-4b7d97787a93"
      },
      "execution_count": 18,
      "outputs": [
        {
          "output_type": "stream",
          "name": "stdout",
          "text": [
            "ChatCompletionMessage(content='intuition; it often guides you based on subconscious observations and experiences that your conscious mind might overlook.', refusal=None, role='assistant', audio=None, function_call=None, tool_calls=None)\n"
          ]
        }
      ]
    },
    {
      "cell_type": "code",
      "source": [
        "from openai import OpenAI\n",
        "client = OpenAI(api_key=secret_key)\n",
        "\n",
        "completion = client.chat.completions.create(\n",
        "\n",
        "    model=\"gpt-3.5-turbo\",\n",
        "    messages=[\n",
        "        {\"role\": \"system\", \"content\": \"Complete the sentence\"},\n",
        "        {\n",
        "            \"role\": \"user\",\n",
        "            \"content\": \"Listen to your \"\n",
        "        }\n",
        "    ],\n",
        "    max_tokens=5 , #number of tokens in output\n",
        "    n=5  #number of chocies in output\n",
        ")\n",
        "\n",
        "print(completion.choices[0].message)"
      ],
      "metadata": {
        "colab": {
          "base_uri": "https://localhost:8080/"
        },
        "id": "bQeQLsll24bF",
        "outputId": "8c12cbbd-fdde-49c6-b4de-6c62cd936658"
      },
      "execution_count": 22,
      "outputs": [
        {
          "output_type": "stream",
          "name": "stdout",
          "text": [
            "ChatCompletionMessage(content='heart, it knows the', refusal=None, role='assistant', audio=None, function_call=None, tool_calls=None)\n"
          ]
        }
      ]
    },
    {
      "cell_type": "code",
      "source": [
        "print(completion.choices[1].message.content)"
      ],
      "metadata": {
        "colab": {
          "base_uri": "https://localhost:8080/"
        },
        "id": "FLMd-uzs4GBq",
        "outputId": "25906cb2-3e30-4e99-ab11-b28d599e4fa2"
      },
      "execution_count": 33,
      "outputs": [
        {
          "output_type": "stream",
          "name": "stdout",
          "text": [
            "\"Listen to your instincts\n"
          ]
        }
      ]
    },
    {
      "cell_type": "code",
      "source": [
        "len(completion.choices)"
      ],
      "metadata": {
        "colab": {
          "base_uri": "https://localhost:8080/"
        },
        "id": "126UP2jc4beJ",
        "outputId": "2c94461b-4d0d-43d6-c3a2-49fbd854855a"
      },
      "execution_count": 30,
      "outputs": [
        {
          "output_type": "execute_result",
          "data": {
            "text/plain": [
              "5"
            ]
          },
          "metadata": {},
          "execution_count": 30
        }
      ]
    },
    {
      "cell_type": "code",
      "source": [
        "for i in range(0, len(completion.choices)):\n",
        "  print(print(completion.choices[i].message.content))"
      ],
      "metadata": {
        "colab": {
          "base_uri": "https://localhost:8080/"
        },
        "id": "D5F1uMLS4wx4",
        "outputId": "fa044684-2585-4c1f-da79-5115cc67abe7"
      },
      "execution_count": 32,
      "outputs": [
        {
          "output_type": "stream",
          "name": "stdout",
          "text": [
            "heart, it knows the\n",
            "None\n",
            "\"Listen to your instincts\n",
            "None\n",
            "heart, it often knows\n",
            "None\n",
            "heart; it knows the\n",
            "None\n",
            "heart.\n",
            "None\n"
          ]
        }
      ]
    },
    {
      "cell_type": "code",
      "source": [
        "from openai import OpenAI\n",
        "client = OpenAI(api_key=secret_key)\n",
        "\n",
        "completion = client.chat.completions.create(\n",
        "\n",
        "    model=\"gpt-3.5-turbo\",\n",
        "    messages=[\n",
        "        {\"role\": \"system\", \"content\": \"Complete the sentence\"},\n",
        "        {\n",
        "            \"role\": \"user\",\n",
        "            \"content\": \"Listen to your \"\n",
        "        }\n",
        "    ],\n",
        "    max_tokens=5 , #number of tokens in output\n",
        "    n=5,  #number of chocies in output\n",
        "    temperature=2 #randomness of responses, 0 means very deterministic, and 2 means very random\n",
        ")\n",
        "\n",
        "for i in range(0, len(completion.choices)):\n",
        "  print(print(completion.choices[i].message.content))"
      ],
      "metadata": {
        "colab": {
          "base_uri": "https://localhost:8080/"
        },
        "id": "4NkMwPlX45S3",
        "outputId": "428ab5c2-6402-4a07-b3d0-9f1893290895"
      },
      "execution_count": 35,
      "outputs": [
        {
          "output_type": "stream",
          "name": "stdout",
          "text": [
            "itz then directed---------------------------------request\n",
            "None\n",
            "instincts.\n",
            "\n",
            "None\n",
            "_____ gut. It usually\n",
            "None\n",
            "heart(cuda_tokens_qu002\n",
            "None\n",
            "And intuitive feelings to guide\n",
            "None\n"
          ]
        }
      ]
    },
    {
      "cell_type": "code",
      "source": [],
      "metadata": {
        "id": "WcZMDXNC5z12"
      },
      "execution_count": null,
      "outputs": []
    },
    {
      "cell_type": "code",
      "source": [],
      "metadata": {
        "id": "1J3fUEQ86uPN"
      },
      "execution_count": null,
      "outputs": []
    },
    {
      "cell_type": "code",
      "source": [
        "# initial prompt with system message and 2 task examples\n",
        "messages_list = [{\"role\":\"system\", \"content\": \"I am Roxette lyric completion assistant. When given a line from a song, I will provide the next line in the song.\"},\n",
        "                 {\"role\":\"user\", \"content\": \"I know there's something in the wake of your smile\"},\n",
        "                 {\"role\":\"assistant\", \"content\": \"I get a notion from the look in your eyes, yeah\"},\n",
        "                 {\"role\":\"user\", \"content\": \"You've built a love but that love falls apart\"},\n",
        "                 {\"role\":\"assistant\", \"content\": \"Your little piece of Heaven turns too dark\"},\n",
        "                 {\"role\":\"user\", \"content\": \"Listen to your\"}]\n",
        "\n",
        "for i in range(10):\n",
        "    # create a chat completion\n",
        "    completion = client.chat.completions.create(\n",
        "\n",
        "                        model=\"gpt-3.5-turbo\",\n",
        "                        messages=messages_list,\n",
        "                        max_tokens=1 , #number of tokens in output\n",
        "                        n=1,  #number of chocies in output\n",
        "                        temperature=0 #randomness of responses, 0 means very deterministic, and 2 means very random\n",
        "                        )\n",
        "\n",
        "    # print the chat completion\n",
        "    print(completion.choices[0].message.content)\n",
        "\n",
        "    new_message = {\"role\":\"assistant\", \"content\":completion.choices[0].message.content} # append new message to message list\n",
        "    messages_list.append(new_message)\n",
        "    time.sleep(0.1)"
      ],
      "metadata": {
        "colab": {
          "base_uri": "https://localhost:8080/"
        },
        "id": "hMwiiBv16uL0",
        "outputId": "50ccb96a-0cb8-44eb-af44-d29de7ae2cf9"
      },
      "execution_count": 40,
      "outputs": [
        {
          "output_type": "stream",
          "name": "stdout",
          "text": [
            "Heart\n",
            "There\n",
            "Is\n",
            "Nothing\n",
            "Else\n",
            "You\n",
            "Can\n",
            "Do\n",
            "You\n",
            "Feel\n"
          ]
        }
      ]
    },
    {
      "cell_type": "code",
      "source": [],
      "metadata": {
        "id": "zFIYXRPy6uIt"
      },
      "execution_count": null,
      "outputs": []
    }
  ]
}